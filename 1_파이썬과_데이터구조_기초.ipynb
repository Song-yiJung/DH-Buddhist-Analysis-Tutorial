{
  "nbformat": 4,
  "nbformat_minor": 0,
  "metadata": {
    "colab": {
      "provenance": [],
      "authorship_tag": "ABX9TyPGV5AXduw49eMcP04rxvuo",
      "include_colab_link": true
    },
    "kernelspec": {
      "name": "python3",
      "display_name": "Python 3"
    },
    "language_info": {
      "name": "python"
    }
  },
  "cells": [
    {
      "cell_type": "markdown",
      "metadata": {
        "id": "view-in-github",
        "colab_type": "text"
      },
      "source": [
        "<a href=\"https://colab.research.google.com/github/Song-yiJung/DH-Buddhist-Analysis-Tutorial/blob/main/1_%ED%8C%8C%EC%9D%B4%EC%8D%AC%EA%B3%BC_%EB%8D%B0%EC%9D%B4%ED%84%B0%EA%B5%AC%EC%A1%B0_%EA%B8%B0%EC%B4%88.ipynb\" target=\"_parent\"><img src=\"https://colab.research.google.com/assets/colab-badge.svg\" alt=\"Open In Colab\"/></a>"
      ]
    },
    {
      "cell_type": "markdown",
      "source": [
        "\n",
        "## 💡파이썬은 언제, 누가, 왜 개발했을까?\n",
        "\n",
        "파이썬은 네덜란드계 소프트웨어 엔지니어 **귀도 반 로섬(Guido van Rossum)**이 1991년에 발표한 프로그래밍 언어이다. 로섬은 **가독성**, **배우기 쉬움,** 그리고 **다양한 분야에서 사용될 수 있는  언어**를 만들고자 했다. 파이썬이라는 이름은 로섬이 좋아했던 영국의 코미디 쇼 '몬티 파이썬의 비행 서커스(Monty Python's Flying Circus)'에서 따왔다.\n",
        "\n",
        "**특징**\n",
        "\n",
        "파이썬은 **인터프리터 사용**(통역사가 있어서 코드를 바로바로 실행 가능), **프로그래밍 언어**(컴퓨터랑 대화하는 언어), **객체지향 언어**이기에 코드 재사용 용이하고 원도우나 리눅스 어느 환경에서든 사용 가능, **동적 타이핑 언어**로 인간이 입력한 값을 알아서 숫자인가 글자인가 판단 가능하다.\n",
        "\n",
        "## 💡디지털 인문학 분야에서 파이썬은 어떻게 사용되고, 어떤 장점이 있을까?\n",
        "\n",
        "* **방대한 텍스트 데이터 분석:** 고문헌, 소설, 신문 기사, SNS 게시물 등 수많은 디지털 텍스트를 효율적으로 수집하고, 정돈하고, 분석하는 데 사용된다. (예: 저자 판별, 주제 변화 추적, 감성 분석 등)\n",
        "* **언어학적 분석:** 오늘 우리가 배울 형태소 분석처럼, 텍스트를 의미 있는 단위로 쪼개고, 단어의 품사를 식별하는 등 언어학적 분석을 수행한다.\n",
        "* **데이터 시각화:** 분석한 결과(수량 데이터)를 그래프, 네트워크 다이어그램, 지도 등 다양한 형태로 시각화하여 복잡한 패턴을 한눈에 파악할 수 있게 돕는다.\n",
        "* **웹 스크래핑:** 웹에 흩어져 있는 자료들을 자동으로 수집하는 데 사용되어, 연구에 필요한 코퍼스를 구축하는 데 기여한다.\n",
        "\n",
        "이러한 활용 덕분에 파이썬은 디지털 인문학에서 다음과 같은 **핵심적인 장점**을 가진다.\n",
        "\n",
        "* **쉬운 학습 곡선:** 문법이 직관적이고 간단해서 프로그래밍 경험이 없는 인문학 연구자들도 빠르게 배우고 적용할 수 있다.\n",
        "* **풍부한 라이브러리 생태계:** 텍스트 분석(NLTK, spaCy, KoNLPy), 데이터 처리(Pandas), 시각화(Matplotlib, Seaborn) 등 각 분야에 특화된 수많은 라이브러리(미리 만들어진 기능 묶음)들이 존재하여, 복잡한 기능도 몇 줄의 코드로 구현할 수 있다.\n",
        "* **확장성 및 유연성:** 다른 언어나 시스템과 연동하기 쉽고, 다양한 연구 방법론에 유연하게 적용할 수 있다.\n"
      ],
      "metadata": {
        "id": "un7xpl0nHvMz"
      }
    },
    {
      "cell_type": "markdown",
      "source": [
        "## **💡 Google Colab?: =파이썬 학습의 든든한 파트너**\n",
        "\n",
        "**Google Colab (구글 코랩)**은 무엇인가?\n",
        "코랩은 구글이 제공하는 **클라우드 기반의 파이썬 개발 환경**이다. 복잡한 설치 과정 없이 웹 브라우저만 있다면 언제 어디서든 파이썬 코드를 작성하고 실행할 수 있는 가상의 작업 공간이다.\n",
        "\n",
        "### **✨ 왜 코랩에서 파이썬을 학습할까?**\n",
        "\n",
        "* **설치에 대한 고민이 없고, 진입 장벽이 낮다:** 파이썬을 배우려다 프로그램 설치나 환경 설정에서부터 어려움을 겪는 경우가 많다. 하지만 코랩은 이런 복잡한 과정을 없애줘서, 이용자가 코딩 자체에 온전히 집중할 수 있도록 도와준다.\n",
        "* **협업에 유리하다:** 코랩 노트북은 구글 문서처럼 쉽게 공유할 수 있다. 팀원들과 함께 코드를 작성하거나, 연구 결과를 공유하고 서로 피드백을 주고받기 정말 편리하다.\n",
        "* **내 컴퓨터가 아니어도 가능, 강력한 자원 활용:** 코랩은 이용자의 컴퓨터가 아니라 **구글의 서버 컴퓨터 자원**을 사용한다. 그래서 고성능 컴퓨터가 없어도 대규모 데이터 분석이나 인공지능 학습 같은 복잡한 계산을 문제없이 수행할 수 있다.\n",
        "* **다양한 도구! 풍부한 라이브러리 지원:** 텍스트 분석에 필요한 **KoNLPy** 같은 유용한 파이썬 라이브러리들을 쉽게 설치하고 활용할 수 있도록 최적화되어 있다.\n",
        "\n",
        "### **❓ 파이썬을 설치하지 않아도 바로 사용 가능한 이유는?**\n",
        "\n",
        "코랩은 앞서 설명했듯이 **구글의 서버 컴퓨터 위에서 작동하는 서비스**이기 때문이다. 구글은 이미 이 서버 컴퓨터들에 파이썬과 우리가 필요로 하는 모든 라이브러리들을 미리 설치해두었다.\n",
        "\n",
        "이용자가 코랩 노트북을 열고 코드를 실행하는 순간, 구글은 여러분을 위해 임시적인 **가상 머신(Virtual Machine)**을 할당해준다. 이 가상 머신 안에 파이썬이 완벽하게 준비되어 있으니, 여러분은 그저 웹 브라우저를 통해 접속해서 코드를 입력하고 실행하기만 하면 된다!\n",
        "\n",
        "마치 구글 드라이브에서 MS 워드나 엑셀 같은 프로그램을 내 컴퓨터에 설치하지 않고도 웹에서 문서를 만들고 편집할 수 있는 것과 같은 원리이다."
      ],
      "metadata": {
        "id": "IWW4aBiq6pjz"
      }
    },
    {
      "cell_type": "markdown",
      "source": [
        "## 파이썬 기본 개념"
      ],
      "metadata": {
        "id": "pNZq9LA2yGeo"
      }
    },
    {
      "cell_type": "code",
      "source": [
        "print(\"Hello, Digital Humanities!\")\n",
        "# 으로 시작하는 줄은 '주석', 코드를 설명하거나 잠시 비활성화할 때 사용하며, 파이썬은 이 부분을 실행하지 않는다.\n",
        "# 셀 왼쪽의 재생(▶) 버튼을 클릭\n",
        "# 재생 단축키: Shift + Enter 키 (가장 많이 사용되는 방법!)\n",
        "# 결과 확인: 코드 셀 아래에 \"Hello, Digital Humanities!\"라는 문구가 출력되는 걸 볼 수 있다."
      ],
      "metadata": {
        "id": "_o5X4pPf6Ce4",
        "colab": {
          "base_uri": "https://localhost:8080/"
        },
        "outputId": "7fbd342d-7c87-4d32-b20f-551a9f2c4231"
      },
      "execution_count": null,
      "outputs": [
        {
          "output_type": "stream",
          "name": "stdout",
          "text": [
            "Hello, Digital Humanities!\n"
          ]
        }
      ]
    },
    {
      "cell_type": "markdown",
      "source": [
        "### **Hello, Digital Humanities!** 문구 출력의 의미\n",
        "1. \"print() 함수는 파이썬에게 \"괄호 안의 내용을 화면에 보여줘!\"라는 명령어\n",
        "2. 해당 명령이 제대로 수행되었음을 뜻한다.\n",
        "3. 이용자가 입력한 파이썬 코드가 구글 코랩 환경에서 성공적으로 실행되었다.\n",
        "\n",
        "### 💡함수는 무엇인가?\n",
        "함수는 **'특정 작업을 수행하도록 미리 만들어둔 코드 묶음'**으로 **<자판기>**에 비유할 수 있다.\n",
        "\n",
        "예) print(\"Hello!\")\n",
        "* **자판기(함수)**: print 함수 자체. 이 함수 안에 '화면에 글자를 보여주는 복잡한 과정'이 숨겨져 있다.\n",
        "* **버튼(함수 호출)**: print( 뒤에 괄호를 열고 내용을 넣는 print(\"Hello!\") 이 전체 행위가 바로 '버튼을 누르는 것', 즉 함수를 호출하는 것.\n",
        "* **음료 종류/선택지(인자/매개변수)**: 괄호 안에 있는 \"Hello!\"가 우리가 함수에게 전달하는 '음료 종류/선택지', 즉 인자이다. print 함수는 이 \"Hello!\"를 받아서 화면에 보여주라는 명령을 수행한다.\n",
        "* **나오는 음료(반환 값)**: print() 함수의 주 목적은 '화면에 내용을 보여주는 것'이다. 그래서 print() 함수는 화면에 \"Hello!\"라는 글자를 보여주는 것으로 자기 역할을 다한다. 따로 계산된 '결과 값'을 우리에게 '돌려주지는(반환하지는)' 않는다. len(\"안녕\")이 2라는 숫자를 돌려주는 것이 반환 값이다.\n",
        "\n",
        "이렇게 함수를 사용하면 복잡한 과정을 하나하나 다 적지 않아도, 필요한 작업을 버튼 누르듯이 쉽고 간편하게 실행할 수 있다. 똑같은 작업을 여러 번 해야 할 때 코드를 반복해서 쓰지 않고, 함수를 불러서 재사용할 수 있어 효율적이다.\n"
      ],
      "metadata": {
        "id": "t8Rm7Aa19Fa2"
      }
    },
    {
      "cell_type": "markdown",
      "source": [
        "### **파이썬 용어**\n",
        "\n",
        "* **함수 호출(Function Call):**\n",
        "    * 자판기에 비유하자면, 우리가 '버튼'을 누르는 행위 자체. 함수가 제 기능을 하도록 '야, 일해봐!' 하고 명령하는것이다.\n",
        "    * **예시:** `print(\"오늘 날씨 좋네요!\")`에서 `print()`가 함수를 호출하는 부분.\n",
        "\n",
        "* **인자(Argument) / 매개변수(Parameter):**\n",
        "    * 우리가 자판기에 '어떤 음료'를 원하는지 알려주는 것처럼, 함수에게 '어떤 정보를 가지고 작업을 할지' 알려주는 값.\n",
        "    * **예시:** `print(\"오늘 날씨 좋네요!\")`에서 큰따옴표 안의 `\"오늘 날씨 좋네요!\"`가 `print()` 함수에게 전달되는 **인자**.\n",
        "\n",
        "* **반환 값(Return Value):**\n",
        "    * 자판기에서 음료가 나오는 것처럼, 함수가 작업을 마친 후 우리에게 '되돌려 주는' 결과물.\n",
        "    * **예시:** `len(\"디지털 인문학\")`이라는 함수는 '디지털 인문학'이라는 글자의 개수를 세어 **7**이라는 숫자를 우리에게 **반환 값**으로 돌려준다.\n",
        "\n",
        "* **라이브러리(Library) / 모듈(Module):**\n",
        "    * 함수들이 여러 개 모여서 특정한 목적을 가진 큰 묶음을 이룰 때, 이것을 **라이브러리** 또는 **모듈**이라고 부른다. 마치 자판기 안에 콜라 만드는 기계, 사이다 만드는 기계 등 여러 기계들이 하나의 자판기라는 '묶음'으로 되어있는 것과 비슷하다.\n",
        "    * 우리가 한국어 텍스트 분석을 위해 설치할 `konlpy`가 바로 이런 라이브러리이다. 이 라이브러리 안에 다양한 함수들이 들어 있다."
      ],
      "metadata": {
        "id": "TzXT_T3s_OZh"
      }
    },
    {
      "cell_type": "code",
      "source": [
        "my_name = \"김DH\"  # 'my_name'이라는 변수에 \"김DH\"이라는 문자열을 저장했어요.\n",
        "my_goal = \"텍스트 분석 마스터하기\" # 'my_goal'이라는 변수에 다른 문자열을 저장했죠.\n",
        "\n",
        "print(my_name) # my_name 변수에 저장된 값을 출력합니다.\n",
        "print(my_goal) # my_goal 변수에 저장된 값을 출력합니다."
      ],
      "metadata": {
        "id": "Le3QAZAhPDLo",
        "colab": {
          "base_uri": "https://localhost:8080/"
        },
        "outputId": "b1206168-e0e2-48b6-a683-a87f6f34397d"
      },
      "execution_count": null,
      "outputs": [
        {
          "output_type": "stream",
          "name": "stdout",
          "text": [
            "김DH\n",
            "텍스트 분석 마스터하기\n"
          ]
        }
      ]
    },
    {
      "cell_type": "code",
      "source": [
        "current_year = 2025\n",
        "birth_year = 2000\n",
        "my_age = current_year - birth_year # 변수에 계산 결과를 저장할 수도 있어요!\n",
        "\n",
        "print(f\"제 이름은 {my_name}이고, 올해 목표는 {my_goal}입니다. 그리고 저는 {my_age}년생이에요!\")"
      ],
      "metadata": {
        "id": "nCqV4arlPC9v",
        "colab": {
          "base_uri": "https://localhost:8080/"
        },
        "outputId": "de9e4ab6-ab3c-4fe6-9736-aefbf4ef5b4d"
      },
      "execution_count": null,
      "outputs": [
        {
          "output_type": "stream",
          "name": "stdout",
          "text": [
            "제 이름은 김DH이고, 올해 목표는 텍스트 분석 마스터하기입니다. 그리고 저는 25년생이에요!\n"
          ]
        }
      ]
    },
    {
      "cell_type": "markdown",
      "source": [
        "## 데이터 구조 학습"
      ],
      "metadata": {
        "id": "AK1Ew7jdyBWw"
      }
    },
    {
      "cell_type": "markdown",
      "source": [
        "## 파이썬의 데이터 구조: 데이터를 효율적으로 보관하는 다양한 방식\n",
        "\n",
        "* 데이터 구조는 **컴퓨터가 데이터를 저장하고 관리하는 '특정한 방식'**.\n",
        "* 다양한 물건(데이터)들을 효율적으로 보관하고 사용할 수 있도록 만들어진 **다양한 종류의 '수납장'이나 '정리함'**.\n",
        "* 데이터를 어떤 데이터 구조에 저장하느냐에 따라,\n",
        "\n",
        "   1) 데이터를 찾고, 꺼내고 수정하는 속도가 달라진다.\n",
        "\n",
        "   2) 컴퓨터 메모리를 얼마나 효율적으로 사용할지가 결정된다.\n",
        "\n",
        "   3) 코드를 얼마나 깔끔하고 이해하기 쉽게 짤 수 있는지가 달라진다.\n",
        "\n"
      ],
      "metadata": {
        "id": "hdSixE3Zy3Ap"
      }
    },
    {
      "cell_type": "markdown",
      "source": [
        "## 파이썬의 주요 데이터 구조와 그 개념 및 종류\n",
        "\n",
        "### 1. 리스트 (List): 순서가 있는 변경 가능한 **목록**\n",
        "* 개념: 가장 흔히 쓰이는 데이터 구조로, 여러 개의 데이터를 순서대로 나열하여 저장하는 방식. '할 일 목록'이나 '장바구니'처럼 순서가 있고, 나중에 물건을 추가하거나 뺄 수 있다.\n",
        "* 특징:\n",
        "** 순서가 있다: 데이터가 저장된 순서가 유지된다. (예: 첫 번째, 두 번째, 세 번째...)\n",
        "** 변경 가능 (Mutable): 한 번 만들고 나서도 안에 있는 데이터(요소)를 추가, 삭제, 변경.\n",
        "**  다양한 종류의 데이터: 숫자, 글자(문자열), 다른 리스트 등 어떤 종류의 데이터든 함께 담을 수 있다.\n",
        "\n",
        "### 2. 디지털 인문학 활용 예시\n",
        "* 문장에서 추출한 모든 단어들의 목록 (순서대로 저장)\n",
        "* 어떤 책에 등장하는 인물들의 이름 목록\n",
        "* 시간 순서대로 정리된 사건 발생 연도 목록"
      ],
      "metadata": {
        "id": "dpTAxIi07_pz"
      }
    },
    {
      "cell_type": "code",
      "source": [
        "my_friends = [\"철수\", \"영희\", \"민수\"] # 친구 목록\n",
        "my_scores = [90, 85, 70, 95]          # 시험 점수 목록"
      ],
      "metadata": {
        "id": "oWdrStrr8DAx"
      },
      "execution_count": null,
      "outputs": []
    },
    {
      "cell_type": "code",
      "source": [
        "# 좋아하는 과일 리스트 만들기\n",
        "my_fruits = [\"사과\", \"바나나\", \"오렌지\", \"딸기\"]\n",
        "print(f\"내 과일 리스트: {my_fruits}\")\n",
        "\n",
        "# 첫 번째 과일은 무엇일까요? (파이썬은 0부터 숫자를 셉니다!)\n",
        "print(f\"가장 좋아하는 과일: {my_fruits[0]}\") # 결과: 사과 (0번째에 있는 요소)\n",
        "print(f\"세 번째 과일: {my_fruits[2]}\") # 결과: 오렌지 (2번째에 있는 요소)"
      ],
      "metadata": {
        "id": "ka5a5Md_PIHa",
        "colab": {
          "base_uri": "https://localhost:8080/"
        },
        "outputId": "e904d753-359a-46e4-84d0-d10c1346ec39"
      },
      "execution_count": null,
      "outputs": [
        {
          "output_type": "stream",
          "name": "stdout",
          "text": [
            "내 과일 리스트: ['사과', '바나나', '오렌지', '딸기']\n",
            "가장 좋아하는 과일: 사과\n",
            "세 번째 과일: 오렌지\n"
          ]
        }
      ]
    },
    {
      "cell_type": "code",
      "source": [
        "# 리스트에 새로운 과일 추가하기\n",
        "my_fruits.append(\"포도\") # 리스트 맨 뒤에 추가\n",
        "print(f\"새로운 과일 추가 후: {my_fruits}\")\n",
        "\n",
        "# 두 번째 과일을 변경하기 (인덱스 1)\n",
        "my_fruits[1] = \"망고\" # 1번째에 있는 '바나나'를 '망고'로 변경\n",
        "print(f\"과일 변경 후: {my_fruits}\")"
      ],
      "metadata": {
        "id": "egAAwXe2PLHU",
        "colab": {
          "base_uri": "https://localhost:8080/"
        },
        "outputId": "140a3eb1-b4a3-48ba-b1ef-7e27488e83f1"
      },
      "execution_count": null,
      "outputs": [
        {
          "output_type": "stream",
          "name": "stdout",
          "text": [
            "새로운 과일 추가 후: ['사과', '망고', '오렌지', '딸기', '포도', '포도']\n",
            "과일 변경 후: ['사과', '망고', '오렌지', '딸기', '포도', '포도']\n"
          ]
        }
      ]
    },
    {
      "cell_type": "markdown",
      "source": [
        "### 2. 튜플 (Tuple): 순서가 있지만 변경 불가능한 목록\n",
        "* 개념: 리스트와 비슷하게 여러 개의 데이터를 순서대로 나열하여 저장. 하지만 튜플의 가장 큰 특징은 한번 만들면 그 내용을 변경할 수 없다.\n",
        "* 특징:\n",
        "** 순서가 있다: 리스트처럼 순서 유지.\n",
        "** 변경 불가능 (Immutable): 한 번 만들면 안에 있는 데이터(요소)를 추가, 삭제, 변경할 수 없다. (이 점이 리스트와의 가장 큰 차이!)\n",
        "** 다양한 종류의 데이터: 리스트처럼 다양한 종류의 데이터를 담을 수 있다. 주로 고정된 '쌍'이나 '묶음'을 표현할 때 유용하다.\n",
        "\n",
        "### 디지털 인문학 활용 예시\n",
        "* 형태소 분석 결과처럼, ('단어', '품사')처럼 변하지 않는 속성 쌍을 저장할 때.\n",
        "* 어떤 개념의 **정해진 정의(Key)와 그 정의에 대한 출처(Value)**를 묶을 때."
      ],
      "metadata": {
        "id": "mLXrvdnX9Yw6"
      }
    },
    {
      "cell_type": "code",
      "source": [
        "my_coordinates = (37.5, 126.9)      # 서울의 위도, 경도 (변하지 않는 값)\n",
        "word_pos = (\"김첨지\", \"NNP\")        # '단어'와 '품사'의 고정된 쌍"
      ],
      "metadata": {
        "id": "3btCsx6r9SjC"
      },
      "execution_count": null,
      "outputs": []
    },
    {
      "cell_type": "markdown",
      "source": [
        "### 3. 딕셔너리 (Dictionary): '키'와 '값'으로 이루어진 사전\n",
        "\n",
        "* 개념: 데이터를 '사전'처럼 '키(Key)'와 '값(Value)'의 쌍으로 저장하는 방식. 우리가 사전에서 '단어'를 찾으면 그에 해당하는 '설명'이 나오는 것처럼, 딕셔너리에서는 '키'를 사용해서 '값'을 찾아낸다.\n",
        "* 특징:\n",
        "** '키'와 '값' 쌍: 키: 값 형태로 데이터 저장.\n",
        "키는 고유해야 한다: 하나의 딕셔너리 안에서 같은 키는 있을 수 없다. (사전에서 같은 단어가 두 번 나오지 않는 것처럼!)\n",
        "** 값은 중복될 수 있다: 여러 키가 같은 값을 가질 수는 있다.\n",
        "** 순서는 중요하지 않다. (Python 3.7+부터는 삽입 순서 보장되지만, 기본적으로는 순서보다는 키를 통한 접근이 중요): 데이터를 저장한 순서보다는 '키'를 통해 데이터를 찾는 것이 주된 목적이다.\n",
        "** 매우 빠르고 효율적인 검색: 특정 '키'를 가진 '값'을 찾아내는 속도가 아주 빠르다.\n",
        "\n",
        "### 디지털 인문학 활용 예시\n",
        "* 단어별 빈도수를 저장할 때 (단어: 키, 빈도수: 값)\n",
        "* 인물, 사건, 장소 등 개체별 속성 정보를 저장할 때 (인물 이름: 키, 나이/직업/성격: 값)\n",
        "* 특정 개념에 대한 다양한 정의나 출처를 연결할 때"
      ],
      "metadata": {
        "id": "kUq8VNsa-n-B"
      }
    },
    {
      "cell_type": "code",
      "source": [
        "student_info = {\"이름\": \"김디인\", \"나이\": 20, \"전공\": \"디지털 인문학\"}\n",
        "word_counts = {\"사랑\": 10, \"친구\": 5, \"행복\": 7} # 단어별 빈도수"
      ],
      "metadata": {
        "id": "fP8U4UJn729n"
      },
      "execution_count": null,
      "outputs": []
    },
    {
      "cell_type": "code",
      "source": [
        "print(\"--- 내 정보 딕셔너리에서 값 꺼내기 ---\")\n",
        "# '이름' 정보 꺼내기\n",
        "print(f\"이름: {student_info['이름']}\")\n",
        "\n",
        "# '전공' 정보 꺼내기\n",
        "print(f\"전공: {student_info['전공']}\")\n",
        "\n",
        "print(\"\\n--- 단어 빈도 딕셔너리에서 값 꺼내기 ---\")\n",
        "# '사랑' 단어의 빈도수 꺼내기\n",
        "print(f\"사랑 단어 빈도수: {word_counts['사랑']}\")\n",
        "\n",
        "# '행복' 단어의 빈도수 꺼내기\n",
        "print(f\"행복 단어 빈도수: {word_counts['행복']}\")"
      ],
      "metadata": {
        "id": "7KugFRVQqli-",
        "colab": {
          "base_uri": "https://localhost:8080/"
        },
        "outputId": "a88e0101-ba51-4c4f-f4bf-714d22963332"
      },
      "execution_count": null,
      "outputs": [
        {
          "output_type": "stream",
          "name": "stdout",
          "text": [
            "--- 내 정보 딕셔너리에서 값 꺼내기 ---\n",
            "이름: 김디인\n",
            "전공: 디지털 인문학\n",
            "\n",
            "--- 단어 빈도 딕셔너리에서 값 꺼내기 ---\n",
            "사랑 단어 빈도수: 10\n",
            "행복 단어 빈도수: 7\n"
          ]
        }
      ]
    },
    {
      "cell_type": "code",
      "source": [
        "# 한 사람의 정보를 딕셔너리로 저장하기\n",
        "person_info = {\n",
        "    \"이름\": \"김DH\",\n",
        "    \"나이\": 25,\n",
        "    \"전공\": \"디지털 인문학\",\n",
        "    \"취미\": [\"독서\", \"영화 감상\"], # 값으로는 리스트도 올 수 있어요!\n",
        "    \"거주지\": \"서울\"\n",
        "}\n",
        "print(f\"사람 정보 딕셔너리: {person_info}\")"
      ],
      "metadata": {
        "id": "k8U-f-6X9DKk",
        "colab": {
          "base_uri": "https://localhost:8080/"
        },
        "outputId": "127a547e-4dc3-4cae-802c-0e1acb862b3d"
      },
      "execution_count": null,
      "outputs": [
        {
          "output_type": "stream",
          "name": "stdout",
          "text": [
            "사람 정보 딕셔너리: {'이름': '김DH', '나이': 25, '전공': '디지털 인문학', '취미': ['독서', '영화 감상'], '거주지': '서울'}\n"
          ]
        }
      ]
    },
    {
      "cell_type": "code",
      "source": [
        "# 딕셔너리에서 '이름' 정보 꺼내기\n",
        "print(f\"이름: {person_info['이름']}\")\n",
        "\n",
        "# 딕셔너리에서 '전공' 정보 꺼내기\n",
        "print(f\"전공: {person_info['전공']}\")\n",
        "\n",
        "# 딕셔너리에서 '취미' 정보 꺼내기\n",
        "print(f\"취미: {person_info['취미']}\")"
      ],
      "metadata": {
        "id": "eJK_pg8WqVed",
        "colab": {
          "base_uri": "https://localhost:8080/"
        },
        "outputId": "9f6a2011-10c4-41fe-dfb3-eaa9029a1ce1"
      },
      "execution_count": null,
      "outputs": [
        {
          "output_type": "stream",
          "name": "stdout",
          "text": [
            "이름: 김DH\n",
            "전공: 디지털 인문학\n",
            "취미: ['독서', '영화 감상']\n"
          ]
        }
      ]
    },
    {
      "cell_type": "code",
      "source": [
        "# '나이' 정보 변경하기\n",
        "person_info['나이'] = 26\n",
        "print(f\"나이 변경 후: {person_info['나이']}\")\n",
        "\n",
        "# '거주지' 정보 변경하기\n",
        "person_info['거주지'] = \"부산\"\n",
        "print(f\"거주지 변경 후: {person_info['거주지']}\")\n",
        "\n",
        "print(f\"\\n모든 정보 변경 후 딕셔너리:\\n{person_info}\")"
      ],
      "metadata": {
        "id": "BrpvpwmvqYhA",
        "colab": {
          "base_uri": "https://localhost:8080/"
        },
        "outputId": "7a20f7a9-3733-4e42-b7f1-09171c0656fb"
      },
      "execution_count": null,
      "outputs": [
        {
          "output_type": "stream",
          "name": "stdout",
          "text": [
            "나이 변경 후: 26\n",
            "거주지 변경 후: 부산\n",
            "\n",
            "모든 정보 변경 후 딕셔너리:\n",
            "{'이름': '김DH', '나이': 26, '전공': '디지털 인문학', '취미': ['독서', '영화 감상'], '거주지': '부산'}\n"
          ]
        }
      ]
    },
    {
      "cell_type": "code",
      "source": [
        "# '성별' 정보 추가하기\n",
        "person_info['성별'] = \"여성\"\n",
        "print(f\"성별 추가 후: {person_info['성별']}\")\n",
        "\n",
        "# '최종학력' 정보 추가하기\n",
        "person_info['최종학력'] = \"석사\"\n",
        "print(f\"최종학력 추가 후: {person_info['최종학력']}\")\n",
        "\n",
        "print(f\"\\n새로운 정보 추가 후 딕셔너리:\\n{person_info}\")"
      ],
      "metadata": {
        "id": "l0vsAAy9qaw5",
        "colab": {
          "base_uri": "https://localhost:8080/"
        },
        "outputId": "9fdf98ea-7470-4a87-da3c-e750e009af00"
      },
      "execution_count": null,
      "outputs": [
        {
          "output_type": "stream",
          "name": "stdout",
          "text": [
            "성별 추가 후: 여성\n",
            "최종학력 추가 후: 석사\n",
            "\n",
            "새로운 정보 추가 후 딕셔너리:\n",
            "{'이름': '김DH', '나이': 26, '전공': '디지털 인문학', '취미': ['독서', '영화 감상'], '거주지': '부산', '성별': '여성', '최종학력': '석사'}\n"
          ]
        }
      ]
    },
    {
      "cell_type": "code",
      "source": [
        "# 딕셔너리의 모든 키(정보의 제목)만 보기\n",
        "print(f\"모든 키: {person_info.keys()}\")\n",
        "\n",
        "# 딕셔너리의 모든 값(정보의 내용)만 보기\n",
        "print(f\"모든 값: {person_info.values()}\")\n",
        "\n",
        "# 딕셔너리의 모든 (키, 값) 쌍 보기 (for문에서 유용!)\n",
        "print(f\"모든 (키, 값) 쌍: {person_info.items()}\")"
      ],
      "metadata": {
        "id": "hNYtUkAgqcza",
        "colab": {
          "base_uri": "https://localhost:8080/"
        },
        "outputId": "0181e0a0-ab61-4e57-c8b4-a6e9f6920d07"
      },
      "execution_count": null,
      "outputs": [
        {
          "output_type": "stream",
          "name": "stdout",
          "text": [
            "모든 키: dict_keys(['이름', '나이', '전공', '취미', '거주지', '성별', '최종학력'])\n",
            "모든 값: dict_values(['김DH', 26, '디지털 인문학', ['독서', '영화 감상'], '부산', '여성', '석사'])\n",
            "모든 (키, 값) 쌍: dict_items([('이름', '김DH'), ('나이', 26), ('전공', '디지털 인문학'), ('취미', ['독서', '영화 감상']), ('거주지', '부산'), ('성별', '여성'), ('최종학력', '석사')])\n"
          ]
        }
      ]
    },
    {
      "cell_type": "markdown",
      "source": [
        "## 파이썬으로 데이터 다루기: 반복문과 조건문\n",
        "\n",
        "데이터를 효율적으로 분석하려면 단순히 데이터를 '담는' 것 뿐만 아니라, 그 안에 담긴 데이터를 하나씩 꺼내서 살펴보고(반복문), 특정 조건에 따라 다르게 처리하는(조건문) 방법을 알아야 한다.\n",
        "\n",
        "### 1. 반복문 (for): 데이터를 하나씩 꺼내 살펴보기\n",
        "\n",
        "* 리스트, 튜플, 딕셔너리처럼 여러 데이터가 모인 곳에서, 각 데이터를 하나씩 차례대로 꺼내서 같은 작업을 반복할 때 사용한다.\n",
        "\n",
        "* 활용 예시: 상자 안에 있는 여러 문학 작품들을 하나씩 꺼내서 제목을 확인하는 것을 연상할 수 있다."
      ],
      "metadata": {
        "id": "GJWK5TfRJ2Ag"
      }
    },
    {
      "cell_type": "markdown",
      "source": [
        "리스트의 요소 반복하기"
      ],
      "metadata": {
        "id": "EYMhs7jefWvk"
      }
    },
    {
      "cell_type": "code",
      "source": [
        "my_fruits = [\"사과\", \"바나나\", \"오렌지\"]\n",
        "for fruit in my_fruits:\n",
        "    print(f\"나는 {fruit}을(를) 좋아해요.\")"
      ],
      "metadata": {
        "id": "C4RKcPlyKKnk",
        "colab": {
          "base_uri": "https://localhost:8080/"
        },
        "outputId": "c99a27d0-1b36-4025-8faa-365132a93b3e"
      },
      "execution_count": null,
      "outputs": [
        {
          "output_type": "stream",
          "name": "stdout",
          "text": [
            "나는 사과을(를) 좋아해요.\n",
            "나는 바나나을(를) 좋아해요.\n",
            "나는 오렌지을(를) 좋아해요.\n"
          ]
        }
      ]
    },
    {
      "cell_type": "markdown",
      "source": [
        "문자열(글자) 반복하기"
      ],
      "metadata": {
        "id": "BwN1kn_FfgcH"
      }
    },
    {
      "cell_type": "code",
      "source": [
        "my_word = \"파이썬\"\n",
        "for char in my_word:\n",
        "    print(f\"글자: {char}\")"
      ],
      "metadata": {
        "id": "wEWJO1Qdfkgr",
        "colab": {
          "base_uri": "https://localhost:8080/"
        },
        "outputId": "0c73116f-9053-422a-daea-cb027fc3efe8"
      },
      "execution_count": null,
      "outputs": [
        {
          "output_type": "stream",
          "name": "stdout",
          "text": [
            "글자: 파\n",
            "글자: 이\n",
            "글자: 썬\n"
          ]
        }
      ]
    },
    {
      "cell_type": "markdown",
      "source": [
        "딕셔너리의 키와 값 반복하기"
      ],
      "metadata": {
        "id": "TuDG1-MRqCXH"
      }
    },
    {
      "cell_type": "code",
      "source": [
        "person_info = {\"이름\": \"김DH\", \"나이\": 25}\n",
        "for key, value in person_info.items():\n",
        "    print(f\"{key}: {value}\")"
      ],
      "metadata": {
        "id": "KXYSZzaXqGLG",
        "colab": {
          "base_uri": "https://localhost:8080/"
        },
        "outputId": "f251ae23-1ee8-4335-cefc-7fedbfa385a5"
      },
      "execution_count": null,
      "outputs": [
        {
          "output_type": "stream",
          "name": "stdout",
          "text": [
            "이름: 김DH\n",
            "나이: 25\n"
          ]
        }
      ]
    },
    {
      "cell_type": "markdown",
      "source": [
        "### 2. 조건문 (if): 특정 조건에 따라 다르게 행동하기\n",
        "\n",
        "* '만약 ~ 이라면, 이렇게 해라!'처럼, 어떤 조건이 맞을 때만 특정 코드를 실행하도록 만든다. else (그렇지 않다면), elif (그 외 만약 ~ 이라면)와 함께 사용한다.\n",
        "\n",
        "* 활용 예시: 뉴스 기사 제목을 분석할 때, 특정 키워드가 포함되어 있는지 확인하여 기사를 분류할 수 있다."
      ],
      "metadata": {
        "id": "NUVXFLYzKecP"
      }
    },
    {
      "cell_type": "code",
      "source": [
        "score = 85\n",
        "if score >= 60:\n",
        "    print(\"합격!\")\n",
        "else:\n",
        "    print(\"불합격!\")\n",
        "\n",
        "temperature = 18\n",
        "if temperature > 25:\n",
        "    print(\"더워요.\")\n",
        "elif temperature > 15:\n",
        "    print(\"쾌적해요.\")\n",
        "else:\n",
        "    print(\"쌀쌀해요.\")"
      ],
      "metadata": {
        "id": "oJJ_Rr-RK81q",
        "colab": {
          "base_uri": "https://localhost:8080/"
        },
        "outputId": "d3cfe036-7669-4d58-8689-7eb387673d4c"
      },
      "execution_count": null,
      "outputs": [
        {
          "output_type": "stream",
          "name": "stdout",
          "text": [
            "합격!\n",
            "쾌적해요.\n"
          ]
        }
      ]
    },
    {
      "cell_type": "code",
      "source": [
        "# 연구 중인 고문서 제목들 (예시)\n",
        "document_title_1 = \"조선왕조실록 태종편\"\n",
        "document_title_2 = \"고려사 절요\"\n",
        "document_title_3 = \"흥부전 연구\"\n",
        "\n",
        "print(\"--- 고문서 시대 분류 ---\")"
      ],
      "metadata": {
        "id": "HT50ne1Iq5Gb",
        "colab": {
          "base_uri": "https://localhost:8080/"
        },
        "outputId": "dffbb4cd-be26-46b8-e56b-57ec6278820a"
      },
      "execution_count": null,
      "outputs": [
        {
          "output_type": "stream",
          "name": "stdout",
          "text": [
            "--- 고문서 시대 분류 ---\n"
          ]
        }
      ]
    },
    {
      "cell_type": "code",
      "source": [
        "# 첫 번째 문서 제목 분류\n",
        "if \"조선\" in document_title_1: # 만약 '조선'이라는 단어가 제목에 있다면\n",
        "    print(f\"'{document_title_1}'은(는) 조선 시대 문서입니다.\")\n",
        "elif \"고려\" in document_title_1: # '조선'이 아니고, '고려'가 있다면\n",
        "    print(f\"'{document_title_1}'은(는) 고려 시대 문서입니다.\")\n",
        "else: # 위의 어떤 조건도 아니라면\n",
        "    print(f\"'{document_title_1}'은(는) 시대 불명 또는 다른 시대 문서입니다.\")\n",
        "\n",
        "print(\"---\")"
      ],
      "metadata": {
        "id": "f-Pfx0QErCxH",
        "colab": {
          "base_uri": "https://localhost:8080/"
        },
        "outputId": "28ae4fef-0d87-443a-d5e4-2f1047797e74"
      },
      "execution_count": null,
      "outputs": [
        {
          "output_type": "stream",
          "name": "stdout",
          "text": [
            "'조선왕조실록 태종편'은(는) 조선 시대 문서입니다.\n",
            "---\n"
          ]
        }
      ]
    },
    {
      "cell_type": "code",
      "source": [
        "# 두 번째 문서 제목 분류\n",
        "if \"조선\" in document_title_2:\n",
        "    print(f\"'{document_title_2}'은(는) 조선 시대 문서입니다.\")\n",
        "elif \"고려\" in document_title_2:\n",
        "    print(f\"'{document_title_2}'은(는) 고려 시대 문서입니다.\")\n",
        "else:\n",
        "    print(f\"'{document_title_2}'은(는) 시대 불명 또는 다른 시대 문서입니다.\")\n",
        "\n",
        "print(\"---\")"
      ],
      "metadata": {
        "id": "KHmHBsUIrFak"
      },
      "execution_count": null,
      "outputs": []
    },
    {
      "cell_type": "code",
      "source": [
        "# 세 번째 문서 제목 분류\n",
        "if \"조선\" in document_title_3:\n",
        "    print(f\"'{document_title_3}'은(는) 조선 시대 문서입니다.\")\n",
        "elif \"고려\" in document_title_3:\n",
        "    print(f\"'{document_title_3}'은(는) 고려 시대 문서입니다.\")\n",
        "else:\n",
        "    print(f\"'{document_title_3}'은(는) 시대 불명 또는 다른 시대 문서입니다.\")\n",
        "\n",
        "print(\"------------------------\")"
      ],
      "metadata": {
        "id": "XLRwTzccrK4L"
      },
      "execution_count": null,
      "outputs": []
    },
    {
      "cell_type": "code",
      "source": [
        "# 문학 작품 발표 연도 (예시)\n",
        "publication_year_1 = 1897 # 이인직의 '혈의 누' 출판 시기\n",
        "publication_year_2 = 1925 # 현진건의 '운수 좋은 날' 출판 시기\n",
        "publication_year_3 = 2005 # 현대 소설\n",
        "\n",
        "print(\"--- 작품 세기 분류 ---\")"
      ],
      "metadata": {
        "id": "m4jIXBGQrQ9Y",
        "colab": {
          "base_uri": "https://localhost:8080/"
        },
        "outputId": "4ff5f106-fb35-42a7-de57-fa9509424b0f"
      },
      "execution_count": null,
      "outputs": [
        {
          "output_type": "stream",
          "name": "stdout",
          "text": [
            "--- 작품 세기 분류 ---\n"
          ]
        }
      ]
    },
    {
      "cell_type": "code",
      "source": [
        "# 첫 번째 작품 연도 분류\n",
        "if publication_year_1 >= 1901 and publication_year_1 <= 2000: # 만약 1901년에서 2000년 사이라면 (20세기)\n",
        "    print(f\"'{publication_year_1}년'은 20세기 작품입니다.\")\n",
        "elif publication_year_1 >= 1801 and publication_year_1 <= 1900: # 1901-2000년이 아니고, 1801-1900년 사이라면 (19세기)\n",
        "    print(f\"'{publication_year_1}년'은 19세기 작품입니다.\")\n",
        "else: # 위의 어떤 조건도 아니라면\n",
        "    print(f\"'{publication_year_1}년'은 20세기 이전 또는 21세기 작품입니다.\")\n",
        "\n",
        "print(\"---\")"
      ],
      "metadata": {
        "id": "KIZbxzVYrSJo",
        "colab": {
          "base_uri": "https://localhost:8080/"
        },
        "outputId": "56c6d3b3-d691-436b-ee53-81fc486abeea"
      },
      "execution_count": null,
      "outputs": [
        {
          "output_type": "stream",
          "name": "stdout",
          "text": [
            "'1897년'은 19세기 작품입니다.\n",
            "---\n"
          ]
        }
      ]
    },
    {
      "cell_type": "code",
      "source": [
        "# 두 번째 작품 연도 분류\n",
        "if publication_year_2 >= 1901 and publication_year_2 <= 2000:\n",
        "    print(f\"'{publication_year_2}년'은 20세기 작품입니다.\")\n",
        "elif publication_year_2 >= 1801 and publication_year_2 <= 1900:\n",
        "    print(f\"'{publication_year_2}년'은 19세기 작품입니다.\")\n",
        "else:\n",
        "    print(f\"'{publication_year_2}년'은 20세기 이전 또는 21세기 작품입니다.\")\n",
        "\n",
        "print(\"---\")"
      ],
      "metadata": {
        "id": "j7pqEb7ArVTL"
      },
      "execution_count": null,
      "outputs": []
    },
    {
      "cell_type": "code",
      "source": [
        "# 세 번째 작품 연도 분류\n",
        "if publication_year_3 >= 1901 and publication_year_3 <= 2000:\n",
        "    print(f\"'{publication_year_3}년'은 20세기 작품입니다.\")\n",
        "elif publication_year_3 >= 1801 and publication_year_3 <= 1900:\n",
        "    print(f\"'{publication_year_3}년'은 19세기 작품입니다.\")\n",
        "else:\n",
        "    print(f\"'{publication_year_3}년'은 20세기 이전 또는 21세기 작품입니다.\")\n",
        "\n",
        "print(\"--------------------\")"
      ],
      "metadata": {
        "id": "4Rkm1QJlrY6i"
      },
      "execution_count": null,
      "outputs": []
    },
    {
      "cell_type": "markdown",
      "source": [
        "### 3. 반복문과 조건문 함께 사용하기\n",
        "\n",
        "*  for문과 if문을 조합해서 더 복잡하고 유용한 데이터 전처리 작업이 가능하다.\n",
        "\n",
        "* 활용예시: **불용어 처리**가 대표적 사례인데, 형태소 분석 결과에서 명사만 추출하되, '가', '이', '그'와 같이 의미가 불분명하거나 너무 짧은 한 글자 명사들은 제외한다."
      ],
      "metadata": {
        "id": "2X2mJ8gYLCpo"
      }
    },
    {
      "cell_type": "code",
      "source": [
        "student_scores = [78, 92, 45, 63, 88]\n",
        "passed_students = []\n",
        "for score in student_scores:\n",
        "    if score >= 60:\n",
        "        passed_students.append(score)\n",
        "print(f\"합격자 점수: {passed_students}\")"
      ],
      "metadata": {
        "id": "42SnA4kQLEJ5",
        "colab": {
          "base_uri": "https://localhost:8080/"
        },
        "outputId": "bd30da82-10e9-4fc2-a8f5-c7864a98ca22"
      },
      "execution_count": null,
      "outputs": [
        {
          "output_type": "stream",
          "name": "stdout",
          "text": [
            "합격자 점수: [78, 92, 63, 88]\n"
          ]
        }
      ]
    }
  ]
}